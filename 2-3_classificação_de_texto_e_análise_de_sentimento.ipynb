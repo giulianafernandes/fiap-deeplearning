{
 "cells": [
  {
   "cell_type": "markdown",
   "metadata": {},
   "source": [
    "# Classificação de Texto e Análise de Sentimentos"
   ]
  },
  {
   "cell_type": "code",
   "execution_count": 1,
   "metadata": {},
   "outputs": [
    {
     "data": {
      "text/html": [
       "<div>\n",
       "<style scoped>\n",
       "    .dataframe tbody tr th:only-of-type {\n",
       "        vertical-align: middle;\n",
       "    }\n",
       "\n",
       "    .dataframe tbody tr th {\n",
       "        vertical-align: top;\n",
       "    }\n",
       "\n",
       "    .dataframe thead th {\n",
       "        text-align: right;\n",
       "    }\n",
       "</style>\n",
       "<table border=\"1\" class=\"dataframe\">\n",
       "  <thead>\n",
       "    <tr style=\"text-align: right;\">\n",
       "      <th></th>\n",
       "      <th>text</th>\n",
       "      <th>class</th>\n",
       "    </tr>\n",
       "  </thead>\n",
       "  <tbody>\n",
       "    <tr>\n",
       "      <th>0</th>\n",
       "      <td>Sobre postech? Eu gostei muito do postech da FIAP</td>\n",
       "      <td>positivo</td>\n",
       "    </tr>\n",
       "    <tr>\n",
       "      <th>1</th>\n",
       "      <td>O postech da FIAP pode melhorar, não gostei muito</td>\n",
       "      <td>negativo</td>\n",
       "    </tr>\n",
       "    <tr>\n",
       "      <th>2</th>\n",
       "      <td>Foi muito importante para meu desenvolvimento</td>\n",
       "      <td>positivo</td>\n",
       "    </tr>\n",
       "    <tr>\n",
       "      <th>3</th>\n",
       "      <td>Poderia ser mais técnico. Não gostei</td>\n",
       "      <td>negativo</td>\n",
       "    </tr>\n",
       "  </tbody>\n",
       "</table>\n",
       "</div>"
      ],
      "text/plain": [
       "                                                text     class\n",
       "0  Sobre postech? Eu gostei muito do postech da FIAP  positivo\n",
       "1  O postech da FIAP pode melhorar, não gostei muito  negativo\n",
       "2      Foi muito importante para meu desenvolvimento  positivo\n",
       "3               Poderia ser mais técnico. Não gostei  negativo"
      ]
     },
     "execution_count": 1,
     "metadata": {},
     "output_type": "execute_result"
    }
   ],
   "source": [
    "import pandas as pd\n",
    "import time\n",
    "\n",
    "pd.set_option('display.max_rows', 500)\n",
    "pd.set_option('display.max_columns', 500)\n",
    "pd.set_option('display.width', 100)\n",
    "\n",
    "# exemplo de documento e corpus\n",
    "df_fiap = pd.DataFrame({\n",
    "    'text': [\n",
    "      'Sobre postech? Eu gostei muito do postech da FIAP',\n",
    "      'O postech da FIAP pode melhorar, não gostei muito',\n",
    "      'Foi muito importante para meu desenvolvimento',\n",
    "      'Poderia ser mais técnico. Não gostei'\n",
    "    ],\n",
    "    'class': [\n",
    "      'positivo',\n",
    "      'negativo',\n",
    "      'positivo',\n",
    "      'negativo'\n",
    "    ]})\n",
    "\n",
    "df_fiap.head()"
   ]
  },
  {
   "cell_type": "markdown",
   "metadata": {},
   "source": [
    "### BoW - Bag Of Words"
   ]
  },
  {
   "cell_type": "code",
   "execution_count": 2,
   "metadata": {},
   "outputs": [
    {
     "name": "stdout",
     "output_type": "stream",
     "text": [
      "                 0  1  2  3\n",
      "da               1  1  0  0\n",
      "desenvolvimento  0  0  1  0\n",
      "do               1  0  0  0\n",
      "eu               1  0  0  0\n",
      "fiap             1  1  0  0\n",
      "foi              0  0  1  0\n",
      "gostei           1  1  0  1\n",
      "importante       0  0  1  0\n",
      "mais             0  0  0  1\n",
      "melhorar         0  1  0  0\n",
      "meu              0  0  1  0\n",
      "muito            1  1  1  0\n",
      "não              0  1  0  1\n",
      "para             0  0  1  0\n",
      "pode             0  1  0  0\n",
      "poderia          0  0  0  1\n",
      "postech          2  1  0  0\n",
      "ser              0  0  0  1\n",
      "sobre            1  0  0  0\n",
      "técnico          0  0  0  1\n"
     ]
    }
   ],
   "source": [
    "from sklearn.feature_extraction.text import CountVectorizer\n",
    "\n",
    "vect = CountVectorizer(ngram_range=(1,1))\n",
    "vect.fit(df_fiap.text)\n",
    "text_vect = vect.transform(df_fiap.text)\n",
    "\n",
    "print(pd.DataFrame(text_vect.A, columns=vect.get_feature_names_out()).T.to_string())"
   ]
  },
  {
   "cell_type": "markdown",
   "metadata": {},
   "source": [
    "### TF-DF"
   ]
  },
  {
   "cell_type": "code",
   "execution_count": 3,
   "metadata": {},
   "outputs": [
    {
     "name": "stdout",
     "output_type": "stream",
     "text": [
      "                        0         1         2         3\n",
      "da               0.287039  0.342426  0.000000  0.000000\n",
      "desenvolvimento  0.000000  0.000000  0.430037  0.000000\n",
      "do               0.364073  0.000000  0.000000  0.000000\n",
      "eu               0.364073  0.000000  0.000000  0.000000\n",
      "fiap             0.287039  0.342426  0.000000  0.000000\n",
      "foi              0.000000  0.000000  0.430037  0.000000\n",
      "gostei           0.232383  0.277223  0.000000  0.284626\n",
      "importante       0.000000  0.000000  0.430037  0.000000\n",
      "mais             0.000000  0.000000  0.000000  0.445922\n",
      "melhorar         0.000000  0.434323  0.000000  0.000000\n",
      "meu              0.000000  0.000000  0.430037  0.000000\n",
      "muito            0.232383  0.277223  0.274487  0.000000\n",
      "não              0.000000  0.342426  0.000000  0.351570\n",
      "para             0.000000  0.000000  0.430037  0.000000\n",
      "pode             0.000000  0.434323  0.000000  0.000000\n",
      "poderia          0.000000  0.000000  0.000000  0.445922\n",
      "postech          0.574078  0.342426  0.000000  0.000000\n",
      "ser              0.000000  0.000000  0.000000  0.445922\n",
      "sobre            0.364073  0.000000  0.000000  0.000000\n",
      "técnico          0.000000  0.000000  0.000000  0.445922\n"
     ]
    }
   ],
   "source": [
    "from sklearn.feature_extraction.text import TfidfVectorizer\n",
    "\n",
    "vect = TfidfVectorizer(ngram_range=(1,1), use_idf=True)\n",
    "vect.fit(df_fiap.text)\n",
    "text_vect = vect.transform(df_fiap.text)\n",
    "\n",
    "print(pd.DataFrame(text_vect.A, columns=vect.get_feature_names_out()).T.to_string())"
   ]
  },
  {
   "cell_type": "markdown",
   "metadata": {},
   "source": [
    "# NLP"
   ]
  },
  {
   "cell_type": "code",
   "execution_count": 4,
   "metadata": {},
   "outputs": [],
   "source": [
    "import nltk\n",
    "import re\n",
    "import string\n",
    "import unicodedata\n",
    "\n",
    "from nltk.tokenize import word_tokenize\n",
    "from nltk.corpus import stopwords"
   ]
  },
  {
   "cell_type": "code",
   "execution_count": 5,
   "metadata": {},
   "outputs": [],
   "source": [
    "# função para normalizar caracteres especiais - acentos, ç e etc \n",
    "def normalize_accents(text):\n",
    "    return unicodedata.normalize('NFKD', text.encode('ASCII', 'ignore').decode('utf-8'))"
   ]
  },
  {
   "cell_type": "code",
   "execution_count": 6,
   "metadata": {},
   "outputs": [],
   "source": [
    "# funçao para remover a pontuação do texto\n",
    "def remove_punctuation(text):\n",
    "    pontuacao = string.punctuation # todas as pontuações existentes\n",
    "    table = str.maketrans({key: \" \" for key in pontuacao}) # cria um dicionário com as pontuações existentes substituindo-as por um espaço em branco\n",
    "    text = text.translate(table)\n",
    "    return text "
   ]
  },
  {
   "cell_type": "code",
   "execution_count": 7,
   "metadata": {},
   "outputs": [
    {
     "data": {
      "text/plain": [
       "'!\"#$%&\\'()*+,-./:;<=>?@[\\\\]^_`{|}~'"
      ]
     },
     "execution_count": 7,
     "metadata": {},
     "output_type": "execute_result"
    }
   ],
   "source": [
    "string.punctuation"
   ]
  },
  {
   "cell_type": "code",
   "execution_count": 8,
   "metadata": {},
   "outputs": [],
   "source": [
    "# função de normalização do texto \n",
    "def normalize_str(text):\n",
    "    text = text.lower() #transforma todas as letras em minúsculas\n",
    "    text = remove_punctuation(text)\n",
    "    text = normalize_accents(text)\n",
    "    text = re.sub(re.compile(r\" +\"), \" \", text) #elimina espaços em branco existentes no texto\n",
    "    return \" \".join([w for w in text.split()]) #no retorno, a string é reorganizada novamente, eliminando qualquer espaço que possa ter sido gerado pelas etapas anteriores."
   ]
  },
  {
   "cell_type": "code",
   "execution_count": 9,
   "metadata": {},
   "outputs": [],
   "source": [
    "# função de tokenização do texto \n",
    "def tokenizer(text):\n",
    "    stop_words = nltk.corpus.stopwords.words(\"english\") #selecione a língua da base\n",
    "    if isinstance(text, str):\n",
    "        text = normalize_str(text)\n",
    "        text = \"\".join([w for w in text if not w.isdigit()]) #remove qualquer número do texto\n",
    "        text = word_tokenize(text)\n",
    "        text = [x for x in text if x not in stop_words] #remove stopwords do texto\n",
    "        text = [y for y in text if len(y) > 2] #opcional - remove qualquer palavra com menos de 2 caracteres\n",
    "        return \" \".join([t for t in text])\n",
    "    else:\n",
    "        return None"
   ]
  },
  {
   "cell_type": "code",
   "execution_count": 10,
   "metadata": {},
   "outputs": [
    {
     "data": {
      "text/plain": [
       "'exemplo normalizao'"
      ]
     },
     "execution_count": 10,
     "metadata": {},
     "output_type": "execute_result"
    }
   ],
   "source": [
    "tokenizer(\"***Exemplo$ de 12 normalização!%()\")"
   ]
  },
  {
   "cell_type": "code",
   "execution_count": 11,
   "metadata": {},
   "outputs": [
    {
     "data": {
      "text/html": [
       "<div>\n",
       "<style scoped>\n",
       "    .dataframe tbody tr th:only-of-type {\n",
       "        vertical-align: middle;\n",
       "    }\n",
       "\n",
       "    .dataframe tbody tr th {\n",
       "        vertical-align: top;\n",
       "    }\n",
       "\n",
       "    .dataframe thead th {\n",
       "        text-align: right;\n",
       "    }\n",
       "</style>\n",
       "<table border=\"1\" class=\"dataframe\">\n",
       "  <thead>\n",
       "    <tr style=\"text-align: right;\">\n",
       "      <th></th>\n",
       "      <th>TITLE</th>\n",
       "      <th>CATEGORY</th>\n",
       "    </tr>\n",
       "  </thead>\n",
       "  <tbody>\n",
       "    <tr>\n",
       "      <th>0</th>\n",
       "      <td>Fed official says weak data caused by weather,...</td>\n",
       "      <td>b</td>\n",
       "    </tr>\n",
       "    <tr>\n",
       "      <th>1</th>\n",
       "      <td>Fed's Charles Plosser sees high bar for change...</td>\n",
       "      <td>b</td>\n",
       "    </tr>\n",
       "    <tr>\n",
       "      <th>2</th>\n",
       "      <td>US open: Stocks fall after Fed official hints ...</td>\n",
       "      <td>b</td>\n",
       "    </tr>\n",
       "  </tbody>\n",
       "</table>\n",
       "</div>"
      ],
      "text/plain": [
       "                                               TITLE CATEGORY\n",
       "0  Fed official says weak data caused by weather,...        b\n",
       "1  Fed's Charles Plosser sees high bar for change...        b\n",
       "2  US open: Stocks fall after Fed official hints ...        b"
      ]
     },
     "execution_count": 11,
     "metadata": {},
     "output_type": "execute_result"
    }
   ],
   "source": [
    "df = pd.read_csv('dados/uci-news-aggregator.csv')\n",
    "df = df[['TITLE', 'CATEGORY']]\n",
    "df.head(3)"
   ]
  },
  {
   "cell_type": "code",
   "execution_count": 12,
   "metadata": {},
   "outputs": [],
   "source": [
    "#categories: b = business, t = science and technology, e = entertainment, m = health"
   ]
  },
  {
   "cell_type": "code",
   "execution_count": 13,
   "metadata": {},
   "outputs": [
    {
     "data": {
      "text/html": [
       "<div>\n",
       "<style scoped>\n",
       "    .dataframe tbody tr th:only-of-type {\n",
       "        vertical-align: middle;\n",
       "    }\n",
       "\n",
       "    .dataframe tbody tr th {\n",
       "        vertical-align: top;\n",
       "    }\n",
       "\n",
       "    .dataframe thead th {\n",
       "        text-align: right;\n",
       "    }\n",
       "</style>\n",
       "<table border=\"1\" class=\"dataframe\">\n",
       "  <thead>\n",
       "    <tr style=\"text-align: right;\">\n",
       "      <th></th>\n",
       "      <th>TITLE</th>\n",
       "      <th>CATEGORY</th>\n",
       "    </tr>\n",
       "  </thead>\n",
       "  <tbody>\n",
       "    <tr>\n",
       "      <th>0</th>\n",
       "      <td>Decrease in average gas price is slight but co...</td>\n",
       "      <td>t</td>\n",
       "    </tr>\n",
       "    <tr>\n",
       "      <th>1</th>\n",
       "      <td>Eat and Drink Your Tax Day Woes Away With Thes...</td>\n",
       "      <td>b</td>\n",
       "    </tr>\n",
       "    <tr>\n",
       "      <th>2</th>\n",
       "      <td>The fashion world's winners at this year's Web...</td>\n",
       "      <td>e</td>\n",
       "    </tr>\n",
       "  </tbody>\n",
       "</table>\n",
       "</div>"
      ],
      "text/plain": [
       "                                               TITLE CATEGORY\n",
       "0  Decrease in average gas price is slight but co...        t\n",
       "1  Eat and Drink Your Tax Day Woes Away With Thes...        b\n",
       "2  The fashion world's winners at this year's Web...        e"
      ]
     },
     "execution_count": 13,
     "metadata": {},
     "output_type": "execute_result"
    }
   ],
   "source": [
    "from sklearn.utils import shuffle\n",
    "\n",
    "#embaralhando os dados\n",
    "df = shuffle(df)\n",
    "df = df.reset_index(drop=True)\n",
    "df.head(3)"
   ]
  },
  {
   "cell_type": "code",
   "execution_count": 14,
   "metadata": {},
   "outputs": [
    {
     "data": {
      "text/html": [
       "<div>\n",
       "<style scoped>\n",
       "    .dataframe tbody tr th:only-of-type {\n",
       "        vertical-align: middle;\n",
       "    }\n",
       "\n",
       "    .dataframe tbody tr th {\n",
       "        vertical-align: top;\n",
       "    }\n",
       "\n",
       "    .dataframe thead th {\n",
       "        text-align: right;\n",
       "    }\n",
       "</style>\n",
       "<table border=\"1\" class=\"dataframe\">\n",
       "  <thead>\n",
       "    <tr style=\"text-align: right;\">\n",
       "      <th></th>\n",
       "      <th>TITLE</th>\n",
       "      <th>CATEGORY</th>\n",
       "      <th>Title_treated</th>\n",
       "    </tr>\n",
       "  </thead>\n",
       "  <tbody>\n",
       "    <tr>\n",
       "      <th>0</th>\n",
       "      <td>Decrease in average gas price is slight but co...</td>\n",
       "      <td>t</td>\n",
       "      <td>decrease average gas price slight could signal...</td>\n",
       "    </tr>\n",
       "    <tr>\n",
       "      <th>1</th>\n",
       "      <td>Eat and Drink Your Tax Day Woes Away With Thes...</td>\n",
       "      <td>b</td>\n",
       "      <td>eat drink tax day woes away offers</td>\n",
       "    </tr>\n",
       "    <tr>\n",
       "      <th>2</th>\n",
       "      <td>The fashion world's winners at this year's Web...</td>\n",
       "      <td>e</td>\n",
       "      <td>fashion world winners year webby awards</td>\n",
       "    </tr>\n",
       "  </tbody>\n",
       "</table>\n",
       "</div>"
      ],
      "text/plain": [
       "                                               TITLE CATEGORY  \\\n",
       "0  Decrease in average gas price is slight but co...        t   \n",
       "1  Eat and Drink Your Tax Day Woes Away With Thes...        b   \n",
       "2  The fashion world's winners at this year's Web...        e   \n",
       "\n",
       "                                       Title_treated  \n",
       "0  decrease average gas price slight could signal...  \n",
       "1                 eat drink tax day woes away offers  \n",
       "2            fashion world winners year webby awards  "
      ]
     },
     "execution_count": 14,
     "metadata": {},
     "output_type": "execute_result"
    }
   ],
   "source": [
    "df['Title_treated'] = df['TITLE'].apply(tokenizer)\n",
    "df.head(3)"
   ]
  },
  {
   "cell_type": "code",
   "execution_count": 15,
   "metadata": {},
   "outputs": [],
   "source": [
    "from sklearn.model_selection import train_test_split\n",
    "\n",
    "X = df['Title_treated'].values # .values - retorna os valores dessa coluna em forma de array\n",
    "y = df['CATEGORY'].values\n",
    "\n",
    "X_train, X_test, y_train, y_test = train_test_split(X, y, test_size=0.3, random_state=42)"
   ]
  },
  {
   "cell_type": "code",
   "execution_count": 16,
   "metadata": {},
   "outputs": [
    {
     "data": {
      "text/plain": [
       "array(['market update nasdaq aapl advanced technologies apple',\n",
       "       'ecb measures expected coming months',\n",
       "       'kanye west booed wireless festival video shows rant led', ...,\n",
       "       'argentina default may one', 'train dragon',\n",
       "       'japan australia deal makes tpp even important'], dtype=object)"
      ]
     },
     "execution_count": 16,
     "metadata": {},
     "output_type": "execute_result"
    }
   ],
   "source": [
    "X_train"
   ]
  },
  {
   "cell_type": "code",
   "execution_count": 17,
   "metadata": {},
   "outputs": [
    {
     "data": {
      "text/plain": [
       "<295693x43896 sparse matrix of type '<class 'numpy.int64'>'\n",
       "\twith 1955923 stored elements in Compressed Sparse Row format>"
      ]
     },
     "execution_count": 17,
     "metadata": {},
     "output_type": "execute_result"
    }
   ],
   "source": [
    "# criando uma representação utilizando o BoW\n",
    "from sklearn.feature_extraction.text import CountVectorizer\n",
    "\n",
    "vect = CountVectorizer(lowercase=False)\n",
    "vect.fit(X_train)\n",
    "X_train = vect.transform(X_train)\n",
    "X_train"
   ]
  },
  {
   "cell_type": "code",
   "execution_count": 18,
   "metadata": {},
   "outputs": [
    {
     "data": {
      "text/plain": [
       "'O retorno foi uma matriz esparsa. \\nO primeiro valor é a quantidade de amostras que eu tenho no conjunto de treino. \\nO segundo valor é o tamanho do dicionário que foi aprendido durante o processo de treino.'"
      ]
     },
     "execution_count": 18,
     "metadata": {},
     "output_type": "execute_result"
    }
   ],
   "source": [
    "'''O retorno foi uma matriz esparsa. \n",
    "O primeiro valor é a quantidade de amostras que eu tenho no conjunto de treino. \n",
    "O segundo valor é o tamanho do dicionário que foi aprendido durante o processo de treino.'''"
   ]
  },
  {
   "cell_type": "code",
   "execution_count": null,
   "metadata": {},
   "outputs": [
    {
     "data": {
      "text/plain": [
       "<126726x44067 sparse matrix of type '<class 'numpy.int64'>'\n",
       "\twith 831472 stored elements in Compressed Sparse Row format>"
      ]
     },
     "execution_count": 26,
     "metadata": {},
     "output_type": "execute_result"
    }
   ],
   "source": [
    "X_test = vect.transform(X_test)\n",
    "X_test"
   ]
  },
  {
   "cell_type": "code",
   "execution_count": null,
   "metadata": {},
   "outputs": [
    {
     "name": "stdout",
     "output_type": "stream",
     "text": [
      "tempo decorrido:  7766.649791955948 segundos\n"
     ]
    }
   ],
   "source": [
    "# treinando com SVM \n",
    "from sklearn import svm\n",
    "\n",
    "clf = svm.SVC(kernel='linear')\n",
    "start_time = time.time()\n",
    "clf.fit(X_train, y_train)\n",
    "end_time = time.time()\n",
    "print('tempo decorrido: ',end_time-start_time, 'segundos')\n",
    "y_pred = clf.predict(X_test)"
   ]
  },
  {
   "cell_type": "code",
   "execution_count": null,
   "metadata": {},
   "outputs": [
    {
     "name": "stdout",
     "output_type": "stream",
     "text": [
      "2:09:26.649792\n"
     ]
    }
   ],
   "source": [
    "# tempo decorrido para treino \n",
    "import datetime \n",
    "sec = end_time - start_time\n",
    "print(str(datetime.timedelta(seconds = sec)))"
   ]
  },
  {
   "cell_type": "code",
   "execution_count": null,
   "metadata": {},
   "outputs": [
    {
     "name": "stdout",
     "output_type": "stream",
     "text": [
      "Accuracy: 0.9427031548379969\n"
     ]
    }
   ],
   "source": [
    "from sklearn import metrics\n",
    "print('Accuracy:', metrics.accuracy_score(y_test, y_pred))"
   ]
  },
  {
   "cell_type": "markdown",
   "metadata": {},
   "source": [
    "# Análise de Sentimentos"
   ]
  },
  {
   "cell_type": "code",
   "execution_count": 19,
   "metadata": {},
   "outputs": [
    {
     "data": {
      "text/html": [
       "<div>\n",
       "<style scoped>\n",
       "    .dataframe tbody tr th:only-of-type {\n",
       "        vertical-align: middle;\n",
       "    }\n",
       "\n",
       "    .dataframe tbody tr th {\n",
       "        vertical-align: top;\n",
       "    }\n",
       "\n",
       "    .dataframe thead th {\n",
       "        text-align: right;\n",
       "    }\n",
       "</style>\n",
       "<table border=\"1\" class=\"dataframe\">\n",
       "  <thead>\n",
       "    <tr style=\"text-align: right;\">\n",
       "      <th></th>\n",
       "      <th>texto</th>\n",
       "      <th>sentimento</th>\n",
       "    </tr>\n",
       "  </thead>\n",
       "  <tbody>\n",
       "    <tr>\n",
       "      <th>0</th>\n",
       "      <td>���⛪ @ Catedral de Santo Antônio - Governador ...</td>\n",
       "      <td>Neutro</td>\n",
       "    </tr>\n",
       "    <tr>\n",
       "      <th>1</th>\n",
       "      <td>� @ Governador Valadares, Minas Gerais https:/...</td>\n",
       "      <td>Neutro</td>\n",
       "    </tr>\n",
       "    <tr>\n",
       "      <th>2</th>\n",
       "      <td>�� @ Governador Valadares, Minas Gerais https:...</td>\n",
       "      <td>Neutro</td>\n",
       "    </tr>\n",
       "  </tbody>\n",
       "</table>\n",
       "</div>"
      ],
      "text/plain": [
       "                                               texto sentimento\n",
       "0  ���⛪ @ Catedral de Santo Antônio - Governador ...     Neutro\n",
       "1  � @ Governador Valadares, Minas Gerais https:/...     Neutro\n",
       "2  �� @ Governador Valadares, Minas Gerais https:...     Neutro"
      ]
     },
     "execution_count": 19,
     "metadata": {},
     "output_type": "execute_result"
    }
   ],
   "source": [
    "df = pd.read_csv(\"dados/tweets_classificados.csv\")\n",
    "df = df[['texto', 'sentimento']]\n",
    "df.head(3)"
   ]
  },
  {
   "cell_type": "code",
   "execution_count": 20,
   "metadata": {},
   "outputs": [
    {
     "data": {
      "text/plain": [
       "array(['Neutro', 'Negativo', 'Positivo'], dtype=object)"
      ]
     },
     "execution_count": 20,
     "metadata": {},
     "output_type": "execute_result"
    }
   ],
   "source": [
    "df.sentimento.unique() # tipos de sentimento no texto"
   ]
  },
  {
   "cell_type": "code",
   "execution_count": 21,
   "metadata": {},
   "outputs": [
    {
     "data": {
      "text/html": [
       "<div>\n",
       "<style scoped>\n",
       "    .dataframe tbody tr th:only-of-type {\n",
       "        vertical-align: middle;\n",
       "    }\n",
       "\n",
       "    .dataframe tbody tr th {\n",
       "        vertical-align: top;\n",
       "    }\n",
       "\n",
       "    .dataframe thead th {\n",
       "        text-align: right;\n",
       "    }\n",
       "</style>\n",
       "<table border=\"1\" class=\"dataframe\">\n",
       "  <thead>\n",
       "    <tr style=\"text-align: right;\">\n",
       "      <th></th>\n",
       "      <th>texto</th>\n",
       "      <th>sentimento</th>\n",
       "    </tr>\n",
       "  </thead>\n",
       "  <tbody>\n",
       "    <tr>\n",
       "      <th>0</th>\n",
       "      <td>@Vicente_Q_Filho @OnlyKetanAmr @c0nvey Esses R...</td>\n",
       "      <td>Negativo</td>\n",
       "    </tr>\n",
       "    <tr>\n",
       "      <th>1</th>\n",
       "      <td>Em calamidade financeira, governo de MG compra...</td>\n",
       "      <td>Negativo</td>\n",
       "    </tr>\n",
       "    <tr>\n",
       "      <th>2</th>\n",
       "      <td>RT @Larry1906: Esse Secretário de Temer, o imb...</td>\n",
       "      <td>Negativo</td>\n",
       "    </tr>\n",
       "  </tbody>\n",
       "</table>\n",
       "</div>"
      ],
      "text/plain": [
       "                                               texto sentimento\n",
       "0  @Vicente_Q_Filho @OnlyKetanAmr @c0nvey Esses R...   Negativo\n",
       "1  Em calamidade financeira, governo de MG compra...   Negativo\n",
       "2  RT @Larry1906: Esse Secretário de Temer, o imb...   Negativo"
      ]
     },
     "execution_count": 21,
     "metadata": {},
     "output_type": "execute_result"
    }
   ],
   "source": [
    "# shuffle nos dados\n",
    "df = shuffle(df)\n",
    "df = df.reset_index(drop=True)\n",
    "df.head(3)"
   ]
  },
  {
   "cell_type": "code",
   "execution_count": 24,
   "metadata": {},
   "outputs": [],
   "source": [
    "# função de tokenização do texto agora com o português\n",
    "def tokenizer(text):\n",
    "    stop_words = nltk.corpus.stopwords.words(\"portuguese\") #selecione a língua da base\n",
    "    if isinstance(text, str):\n",
    "        text = normalize_str(text)\n",
    "        text = \"\".join([w for w in text if not w.isdigit()]) #remove qualquer número do texto\n",
    "        text = word_tokenize(text)\n",
    "        text = [x for x in text if x not in stop_words] #remove stopwords do texto\n",
    "        text = [y for y in text if len(y) > 2] #opcional - remove qualquer palavra com menos de 2 caracteres\n",
    "        return \" \".join([t for t in text])\n",
    "    else:\n",
    "        return None"
   ]
  },
  {
   "cell_type": "code",
   "execution_count": 25,
   "metadata": {},
   "outputs": [
    {
     "data": {
      "text/html": [
       "<div>\n",
       "<style scoped>\n",
       "    .dataframe tbody tr th:only-of-type {\n",
       "        vertical-align: middle;\n",
       "    }\n",
       "\n",
       "    .dataframe tbody tr th {\n",
       "        vertical-align: top;\n",
       "    }\n",
       "\n",
       "    .dataframe thead th {\n",
       "        text-align: right;\n",
       "    }\n",
       "</style>\n",
       "<table border=\"1\" class=\"dataframe\">\n",
       "  <thead>\n",
       "    <tr style=\"text-align: right;\">\n",
       "      <th></th>\n",
       "      <th>texto</th>\n",
       "      <th>sentimento</th>\n",
       "      <th>tweet_tratado</th>\n",
       "    </tr>\n",
       "  </thead>\n",
       "  <tbody>\n",
       "    <tr>\n",
       "      <th>0</th>\n",
       "      <td>@Vicente_Q_Filho @OnlyKetanAmr @c0nvey Esses R...</td>\n",
       "      <td>Negativo</td>\n",
       "      <td>vicente filho onlyketanamr cnvey milhes poderi...</td>\n",
       "    </tr>\n",
       "    <tr>\n",
       "      <th>1</th>\n",
       "      <td>Em calamidade financeira, governo de MG compra...</td>\n",
       "      <td>Negativo</td>\n",
       "      <td>calamidade financeira governo compra dois heli...</td>\n",
       "    </tr>\n",
       "    <tr>\n",
       "      <th>2</th>\n",
       "      <td>RT @Larry1906: Esse Secretário de Temer, o imb...</td>\n",
       "      <td>Negativo</td>\n",
       "      <td>larry secretrio temer imbecil bruno jlio pmdb ...</td>\n",
       "    </tr>\n",
       "  </tbody>\n",
       "</table>\n",
       "</div>"
      ],
      "text/plain": [
       "                                               texto sentimento  \\\n",
       "0  @Vicente_Q_Filho @OnlyKetanAmr @c0nvey Esses R...   Negativo   \n",
       "1  Em calamidade financeira, governo de MG compra...   Negativo   \n",
       "2  RT @Larry1906: Esse Secretário de Temer, o imb...   Negativo   \n",
       "\n",
       "                                       tweet_tratado  \n",
       "0  vicente filho onlyketanamr cnvey milhes poderi...  \n",
       "1  calamidade financeira governo compra dois heli...  \n",
       "2  larry secretrio temer imbecil bruno jlio pmdb ...  "
      ]
     },
     "execution_count": 25,
     "metadata": {},
     "output_type": "execute_result"
    }
   ],
   "source": [
    "df['tweet_tratado'] = df['texto'].apply(tokenizer)\n",
    "df.head(3)"
   ]
  },
  {
   "cell_type": "code",
   "execution_count": 26,
   "metadata": {},
   "outputs": [],
   "source": [
    "# split\n",
    "X = df['tweet_tratado'].values\n",
    "y = df['sentimento'].values\n",
    "\n",
    "X_train, X_test, y_train, y_test = train_test_split(X, y, test_size=0.3, random_state=42)"
   ]
  },
  {
   "cell_type": "code",
   "execution_count": 28,
   "metadata": {},
   "outputs": [
    {
     "data": {
      "text/plain": [
       "<4042x9707 sparse matrix of type '<class 'numpy.int64'>'\n",
       "\twith 42296 stored elements in Compressed Sparse Row format>"
      ]
     },
     "execution_count": 28,
     "metadata": {},
     "output_type": "execute_result"
    }
   ],
   "source": [
    "# CountVectorizer\n",
    "\n",
    "vect = CountVectorizer(lowercase=False)\n",
    "vect.fit(X_train)\n",
    "X_train = vect.transform(X_train)\n",
    "X_train"
   ]
  },
  {
   "cell_type": "code",
   "execution_count": 29,
   "metadata": {},
   "outputs": [
    {
     "data": {
      "text/plain": [
       "<1733x9707 sparse matrix of type '<class 'numpy.int64'>'\n",
       "\twith 14993 stored elements in Compressed Sparse Row format>"
      ]
     },
     "execution_count": 29,
     "metadata": {},
     "output_type": "execute_result"
    }
   ],
   "source": [
    "X_test = vect.transform(X_test)\n",
    "X_test"
   ]
  },
  {
   "cell_type": "code",
   "execution_count": 31,
   "metadata": {},
   "outputs": [],
   "source": [
    "#treinando com SVM\n",
    "from sklearn import svm\n",
    "\n",
    "clf = svm.SVC(kernel='linear')\n",
    "clf.fit(X_train, y_train)\n",
    "y_pred = clf.predict(X_test)"
   ]
  },
  {
   "cell_type": "code",
   "execution_count": 37,
   "metadata": {},
   "outputs": [
    {
     "name": "stdout",
     "output_type": "stream",
     "text": [
      "Accuracy:  95.33 %\n"
     ]
    }
   ],
   "source": [
    "from sklearn import metrics\n",
    "print('Accuracy: ',(metrics.accuracy_score(y_test, y_pred)*100).round(2),'%')"
   ]
  },
  {
   "cell_type": "code",
   "execution_count": null,
   "metadata": {},
   "outputs": [],
   "source": []
  }
 ],
 "metadata": {
  "kernelspec": {
   "display_name": "venv",
   "language": "python",
   "name": "python3"
  },
  "language_info": {
   "codemirror_mode": {
    "name": "ipython",
    "version": 3
   },
   "file_extension": ".py",
   "mimetype": "text/x-python",
   "name": "python",
   "nbconvert_exporter": "python",
   "pygments_lexer": "ipython3",
   "version": "3.10.10"
  }
 },
 "nbformat": 4,
 "nbformat_minor": 2
}
